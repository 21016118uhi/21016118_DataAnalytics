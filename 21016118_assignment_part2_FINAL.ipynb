{
  "nbformat": 4,
  "nbformat_minor": 0,
  "metadata": {
    "colab": {
      "provenance": [],
      "authorship_tag": "ABX9TyPj9VFljhWApcd5TxrF+6l0",
      "include_colab_link": true
    },
    "kernelspec": {
      "name": "python3",
      "display_name": "Python 3"
    },
    "language_info": {
      "name": "python"
    }
  },
  "cells": [
    {
      "cell_type": "markdown",
      "metadata": {
        "id": "view-in-github",
        "colab_type": "text"
      },
      "source": [
        "<a href=\"https://colab.research.google.com/github/21016118uhi/21016118_DataAnalytics/blob/main/21016118_assignment_part2_FINAL.ipynb\" target=\"_parent\"><img src=\"https://colab.research.google.com/assets/colab-badge.svg\" alt=\"Open In Colab\"/></a>"
      ]
    },
    {
      "cell_type": "code",
      "source": [
        "# set seed for repeatability\n",
        "import os\n",
        "os.environ['PYTHONHASHSEED'] = '0'"
      ],
      "metadata": {
        "id": "ZaFE6fsrUqgT"
      },
      "execution_count": 127,
      "outputs": []
    },
    {
      "cell_type": "code",
      "source": [
        "# import necessary packages\n",
        "import pandas as pd\n",
        "import numpy as np\n",
        "import tensorflow as tf\n",
        "from tensorflow import keras\n",
        "from tensorflow.keras import layers\n",
        "from sklearn.preprocessing import MinMaxScaler\n",
        "import matplotlib.pyplot as plt\n",
        "print(tf.__version__)"
      ],
      "metadata": {
        "id": "XELerGnCmdJ1",
        "colab": {
          "base_uri": "https://localhost:8080/"
        },
        "outputId": "9c439118-981f-42ac-cf4f-e98093acd2f9"
      },
      "execution_count": 128,
      "outputs": [
        {
          "output_type": "stream",
          "name": "stdout",
          "text": [
            "2.15.0\n"
          ]
        }
      ]
    },
    {
      "cell_type": "code",
      "source": [
        "# enable deterministic operations and set seeds for repeatability\n",
        "tf.config.experimental.enable_op_determinism()\n",
        "tf.keras.utils.set_random_seed(7)\n",
        "tf.random.set_seed(7)"
      ],
      "metadata": {
        "id": "6iQ_f36ifIOK"
      },
      "execution_count": 129,
      "outputs": []
    },
    {
      "cell_type": "markdown",
      "source": [
        "# Introduction"
      ],
      "metadata": {
        "id": "1qF-f0WOk25S"
      }
    },
    {
      "cell_type": "markdown",
      "source": [
        "New York's emergency services asked whether there is a relationship between the weather and the number of collisions on a specified day. It is assumed that this is to understand whether this can be used to improve resource planning by being able to predict the number of collisions. Earlier analysis of the data suggested the best fitting model should be a simple linear model based on temperature, windspeed, sea-level pressure, precipitation, visibility, fog, average speed, and date information. This will be tested in this report."
      ],
      "metadata": {
        "id": "nOxZZ9x3lGPH"
      }
    },
    {
      "cell_type": "markdown",
      "source": [
        "# Methodology"
      ],
      "metadata": {
        "id": "GbT5gG3Qk0-2"
      }
    },
    {
      "cell_type": "markdown",
      "source": [
        "Two linear models were created and two deep neural network regressor models. These were trained and tested before being validated against a sample of known values."
      ],
      "metadata": {
        "id": "JR-lGr-IXptZ"
      }
    },
    {
      "cell_type": "markdown",
      "source": [
        "### Data preparation"
      ],
      "metadata": {
        "id": "wkzA2gPGXMJL"
      }
    },
    {
      "cell_type": "markdown",
      "source": [
        "In preparation, the rows in the dataset were shuffled to prevent inherited bias which might impact the fit of the model. Shown below are the first ten rows of this dataframe."
      ],
      "metadata": {
        "id": "tX2H7qSCltUx"
      }
    },
    {
      "cell_type": "code",
      "source": [
        "# read in data\n",
        "cwt_full = pd.read_csv(\"https://raw.githubusercontent.com/21016118uhi/21016118_DataAnalytics/main/combined_collisions_weather_traffic_FINAL.csv\")\n",
        "\n",
        "# create dataframe by selecting relevant columns\n",
        "cwt_df1 = cwt_full[['total_collisions', 'month', 'day_of_week', 'temp_c', 'slp_c', 'visib_c', 'wdsp_c', 'prcp_c', 'fog_c', 'avg_speed_all']]\n",
        "\n",
        "# shuffle data\n",
        "shuffle_df1 = cwt_df1.iloc[np.random.permutation(len(cwt_df1))]\n",
        "\n",
        "# review first 10 rows of data\n",
        "print(shuffle_df1[:10])"
      ],
      "metadata": {
        "colab": {
          "base_uri": "https://localhost:8080/"
        },
        "id": "8C8RxaS9mN1b",
        "outputId": "fbce82fc-c260-483c-a838-d4c53a79e694"
      },
      "execution_count": 130,
      "outputs": [
        {
          "output_type": "stream",
          "name": "stdout",
          "text": [
            "     total_collisions  month  day_of_week  temp_c   slp_c  visib_c  wdsp_c  \\\n",
            "114               236      5            3    51.5   998.2      9.5    12.1   \n",
            "129               316      5            4    54.2  1003.6      8.8    16.1   \n",
            "302               260     11            2    50.8  1007.0      8.7    17.0   \n",
            "256               267     10            5    58.5  1011.9      9.3     5.1   \n",
            "160               270      7            4    68.6  1014.6      4.1     4.4   \n",
            "230               280      9            7    62.9  1003.9      9.1    22.1   \n",
            "332               229     12            4    45.9  1019.9      5.7     4.0   \n",
            "65                264      3            3    42.1   998.2      7.6    17.8   \n",
            "296               354     11            3    38.7  1033.0     10.0     8.8   \n",
            "122               257      5            4    51.4  1019.1     10.0    10.1   \n",
            "\n",
            "     prcp_c  fog_c  avg_speed_all  \n",
            "114    0.02      0      28.936996  \n",
            "129    0.00      0      27.530219  \n",
            "302    0.13      0      30.493639  \n",
            "256    0.00      0      25.246285  \n",
            "160    0.00      1      26.448520  \n",
            "230    0.00      0      27.182123  \n",
            "332    0.00      1      31.568758  \n",
            "65     0.18      0      32.219479  \n",
            "296    0.00      0      27.958282  \n",
            "122    0.00      0      27.272069  \n"
          ]
        }
      ]
    },
    {
      "cell_type": "code",
      "source": [
        "# create one hot encodeing of month and day of week\n",
        "encoded_month = pd.get_dummies(shuffle_df1['month']).add_prefix('mon_')\n",
        "encoded_day_of_week = pd.get_dummies(shuffle_df1['day_of_week']).add_prefix('dow_')"
      ],
      "metadata": {
        "id": "5dXc-vX5mjY6"
      },
      "execution_count": 131,
      "outputs": []
    },
    {
      "cell_type": "markdown",
      "source": [
        "Each of the columns of the data was then scaled based on the mean, minimum and maximum. One hot encoding was applied to the month and day of the week columns."
      ],
      "metadata": {
        "id": "rkoHFXHFgc86"
      }
    },
    {
      "cell_type": "code",
      "source": [
        "# values stored so scaling can be reversed later when predictions are calculated\n",
        "total_collisions_mean = shuffle_df1.loc[:, 'total_collisions'].mean()\n",
        "total_collisions_min = shuffle_df1.loc[:, 'total_collisions'].min()\n",
        "total_collisions_max = shuffle_df1.loc[:, 'total_collisions'].max()"
      ],
      "metadata": {
        "id": "tQPfUMos-CPk"
      },
      "execution_count": 132,
      "outputs": []
    },
    {
      "cell_type": "code",
      "source": [
        "# set up scaler\n",
        "scaler = MinMaxScaler()\n",
        "\n",
        "# scale dataset\n",
        "shuffle_df1[shuffle_df1.columns] = scaler.fit_transform(shuffle_df1[shuffle_df1.columns])"
      ],
      "metadata": {
        "id": "kvKWwX_V-XSe"
      },
      "execution_count": 133,
      "outputs": []
    },
    {
      "cell_type": "code",
      "source": [
        "# add one hot encoding to dataframe\n",
        "df1_ohe = shuffle_df1.join(encoded_month).join(encoded_day_of_week)\n",
        "\n",
        "# print head of dataframe\n",
        "print(df1_ohe.head())"
      ],
      "metadata": {
        "colab": {
          "base_uri": "https://localhost:8080/"
        },
        "id": "23rjtkB5p0ew",
        "outputId": "06e3a720-7690-49e4-b00f-0dea28708641"
      },
      "execution_count": 134,
      "outputs": [
        {
          "output_type": "stream",
          "name": "stdout",
          "text": [
            "     total_collisions     month  day_of_week    temp_c     slp_c   visib_c  \\\n",
            "114          0.399038  0.363636     0.333333  0.649928  0.142157  0.943820   \n",
            "129          0.783654  0.363636     0.500000  0.688666  0.274510  0.865169   \n",
            "302          0.514423  0.909091     0.166667  0.639885  0.357843  0.853933   \n",
            "256          0.548077  0.818182     0.666667  0.750359  0.477941  0.921348   \n",
            "160          0.562500  0.545455     0.500000  0.895265  0.544118  0.337079   \n",
            "\n",
            "       wdsp_c    prcp_c  fog_c  avg_speed_all  ...  mon_10  mon_11  mon_12  \\\n",
            "114  0.387234  0.012903    0.0       0.425176  ...       0       0       0   \n",
            "129  0.557447  0.000000    0.0       0.345383  ...       0       0       0   \n",
            "302  0.595745  0.083871    0.0       0.513470  ...       0       1       0   \n",
            "256  0.089362  0.000000    0.0       0.215837  ...       1       0       0   \n",
            "160  0.059574  0.000000    1.0       0.284028  ...       0       0       0   \n",
            "\n",
            "     dow_1  dow_2  dow_3  dow_4  dow_5  dow_6  dow_7  \n",
            "114      0      0      1      0      0      0      0  \n",
            "129      0      0      0      1      0      0      0  \n",
            "302      0      1      0      0      0      0      0  \n",
            "256      0      0      0      0      1      0      0  \n",
            "160      0      0      0      1      0      0      0  \n",
            "\n",
            "[5 rows x 29 columns]\n"
          ]
        }
      ]
    },
    {
      "cell_type": "markdown",
      "source": [
        "The final preparation step was to reserve 5% of the data for model validation."
      ],
      "metadata": {
        "id": "5Dj7hLCHzGTX"
      }
    },
    {
      "cell_type": "code",
      "source": [
        "# create a building dataset and validation dataset\n",
        "df1_build = df1_ohe.sample(frac=0.95, random_state=0)\n",
        "df1_validate = df1_ohe.drop(df1_build.index)\n",
        "\n",
        "df1_build.shape"
      ],
      "metadata": {
        "colab": {
          "base_uri": "https://localhost:8080/"
        },
        "id": "NN5IjWMfzFiu",
        "outputId": "cd64fa0c-a608-4a82-bdd7-ea8c9d560877"
      },
      "execution_count": 135,
      "outputs": [
        {
          "output_type": "execute_result",
          "data": {
            "text/plain": [
              "(318, 29)"
            ]
          },
          "metadata": {},
          "execution_count": 135
        }
      ]
    },
    {
      "cell_type": "markdown",
      "source": [
        "The dataframe to be used for building the models contains 318 rows."
      ],
      "metadata": {
        "id": "zyQdYO-70LLo"
      }
    },
    {
      "cell_type": "code",
      "source": [
        "df1_validate.shape"
      ],
      "metadata": {
        "colab": {
          "base_uri": "https://localhost:8080/"
        },
        "id": "2lA-wgvV0Vf2",
        "outputId": "01f02b42-20a4-4170-b55b-b830af0fea9f"
      },
      "execution_count": 136,
      "outputs": [
        {
          "output_type": "execute_result",
          "data": {
            "text/plain": [
              "(17, 29)"
            ]
          },
          "metadata": {},
          "execution_count": 136
        }
      ]
    },
    {
      "cell_type": "markdown",
      "source": [
        "The validation dataframe has just 17 rows."
      ],
      "metadata": {
        "id": "hq1A6mwL0YsF"
      }
    },
    {
      "cell_type": "markdown",
      "source": [
        "### Linear regression models"
      ],
      "metadata": {
        "id": "SJBwU_yPXS0g"
      }
    },
    {
      "cell_type": "markdown",
      "source": [
        "The first model to be trained and tested was a linear model that uses all the weather variables."
      ],
      "metadata": {
        "id": "zjMDVWxHXWTu"
      }
    },
    {
      "cell_type": "code",
      "source": [
        "# create a dataframe with the predictors and target at the end using the shuffled dataframe\n",
        "df1_input_data_weather = [df1_build[\"temp_c\"], df1_build[\"slp_c\"], df1_build[\"visib_c\"], df1_build[\"wdsp_c\"], df1_build[\"prcp_c\"], df1_build[\"fog_c\"], df1_build[\"total_collisions\"]]\n",
        "# create headers\n",
        "df1_input_headers_weather = [\"temp\", \"slp\", \"visib\", \"wdsp\", \"prcp\", \"fog\", \"total_collisions\"]\n",
        "# combine data and headers\n",
        "df1_input_weather = pd.concat(df1_input_data_weather, axis=1, keys=df1_input_headers_weather)\n",
        "\n",
        "# create a training dataset and test dataset\n",
        "training_df1_weather = df1_input_weather.sample(frac=0.7, random_state=0)\n",
        "test_df1_weather = df1_input_weather.drop(training_df1_weather.index)\n",
        "\n",
        "# create copies and remove target\n",
        "training_features_df1_weather = training_df1_weather.copy()\n",
        "test_features_df1_weather = test_df1_weather.copy()\n",
        "\n",
        "training_labels_df1_weather = training_features_df1_weather.pop(\"total_collisions\")\n",
        "test_labels_df1_weather = test_features_df1_weather.pop(\"total_collisions\")\n",
        "\n",
        "# create normalisation layer\n",
        "normaliser_weather = tf.keras.layers.Normalization(axis=-1)\n",
        "normaliser_weather.adapt(np.array(training_features_df1_weather))\n",
        "\n",
        "# create model and add normalisation layer\n",
        "m1 = tf.keras.Sequential([\n",
        "    normaliser_weather,\n",
        "    layers.Dense(units=1)\n",
        "])\n",
        "\n",
        "# creating sequential model with optimiser and loss parameter (MAE)\n",
        "m1.compile(\n",
        "    optimizer=tf.optimizers.Adam(learning_rate=0.1),\n",
        "    loss='mean_absolute_error')\n",
        "\n",
        "# fit the model with training data, run 1000 times with 20% validation split\n",
        "history = m1.fit(\n",
        "    training_features_df1_weather,\n",
        "    training_labels_df1_weather,\n",
        "    epochs=1000,\n",
        "    verbose=0,\n",
        "    validation_split = 0.2)\n",
        "\n",
        "# check mean absolute error\n",
        "MAE_m1 = m1.evaluate(\n",
        "    test_features_df1_weather,\n",
        "    test_labels_df1_weather, verbose=0)\n",
        "print(MAE_m1)"
      ],
      "metadata": {
        "colab": {
          "base_uri": "https://localhost:8080/"
        },
        "id": "yMb4yg0zKvN7",
        "outputId": "e1ae2e70-b8ca-4e79-f375-22e9f2773ee7"
      },
      "execution_count": 137,
      "outputs": [
        {
          "output_type": "stream",
          "name": "stdout",
          "text": [
            "0.15897241234779358\n"
          ]
        }
      ]
    },
    {
      "cell_type": "markdown",
      "source": [
        "The mean absolute error of this initial model using just the weather variables was 0.159.\n",
        "\n",
        "The analysis suggested that the model should be improved by adding date information. This was the next version of the model to be trained and tested."
      ],
      "metadata": {
        "id": "XxMCoTmQ8GNd"
      }
    },
    {
      "cell_type": "code",
      "source": [
        "# create a dataframe with the predictors and target at the end using the shuffled dataframe\n",
        "df1_input_data_weather_date = [df1_build[\"temp_c\"], df1_build[\"slp_c\"], df1_build[\"visib_c\"], df1_build[\"wdsp_c\"], df1_build[\"prcp_c\"], df1_build[\"fog_c\"], df1_build[\"mon_1\"], df1_build[\"mon_2\"], df1_build[\"mon_3\"], df1_build[\"mon_4\"], df1_build[\"mon_5\"], df1_build[\"mon_6\"], df1_build[\"mon_7\"], df1_build[\"mon_8\"], df1_build[\"mon_9\"], df1_build[\"mon_10\"], df1_build[\"mon_11\"], df1_build[\"mon_12\"], df1_build[\"dow_1\"], df1_build[\"dow_2\"], df1_build[\"dow_3\"], df1_build[\"dow_4\"], df1_build[\"dow_5\"], df1_build[\"dow_6\"], df1_build[\"dow_7\"], df1_build[\"total_collisions\"]]\n",
        "# create headers\n",
        "df1_input_headers_weather_date = [\"temp\", \"slp\", \"visib\", \"wdsp\", \"prcp\", \"fog\", \"Jan\", \"Feb\", \"Mar\", \"Apr\", \"May\", \"Jun\", \"Jul\", \"Aug\", \"Sep\", \"Oct\", \"Nov\", \"Dec\", \"Sun\", \"Mon\", \"Tue\", \"Wed\", \"Thu\", \"Fri\", \"Sat\", \"total_collisions\"]\n",
        "# combine data and headers\n",
        "df1_input_weather_date = pd.concat(df1_input_data_weather_date, axis=1, keys=df1_input_headers_weather_date)\n",
        "\n",
        "# create a training dataset and test dataset\n",
        "training_df1_weather_date = df1_input_weather_date.sample(frac=0.7, random_state=0)\n",
        "test_df1_weather_date = df1_input_weather_date.drop(training_df1_weather_date.index)\n",
        "\n",
        "# create copies and remove target\n",
        "training_features_df1_weather_date = training_df1_weather_date.copy()\n",
        "test_features_df1_weather_date = test_df1_weather_date.copy()\n",
        "\n",
        "training_labels_df1_weather_date = training_features_df1_weather_date.pop(\"total_collisions\")\n",
        "test_labels_df1_weather_date = test_features_df1_weather_date.pop(\"total_collisions\")\n",
        "\n",
        "# create normalisation layer\n",
        "normaliser_weather_date = tf.keras.layers.Normalization(axis=-1)\n",
        "normaliser_weather_date.adapt(np.array(training_features_df1_weather_date))\n",
        "\n",
        "# create additional model and add normalisation layer\n",
        "m2 = tf.keras.Sequential([\n",
        "    normaliser_weather_date,\n",
        "    layers.Dense(units=1)\n",
        "])\n",
        "\n",
        "# creating sequential model with optimiser and loss parameter (MAE)\n",
        "m2.compile(\n",
        "    optimizer=tf.optimizers.Adam(learning_rate=0.1),\n",
        "    loss='mean_absolute_error')\n",
        "\n",
        "# fit the model with training data, run 1000 times with 20% validation split\n",
        "history = m2.fit(\n",
        "    training_features_df1_weather_date,\n",
        "    training_labels_df1_weather_date,\n",
        "    epochs=1000,\n",
        "    verbose=0,\n",
        "    validation_split = 0.2)\n",
        "\n",
        "# check mean absolute error\n",
        "MAE_m2 = m2.evaluate(\n",
        "    test_features_df1_weather_date,\n",
        "    test_labels_df1_weather_date, verbose=0)\n",
        "print(MAE_m2)"
      ],
      "metadata": {
        "colab": {
          "base_uri": "https://localhost:8080/"
        },
        "id": "sZuBok9ciDH1",
        "outputId": "01319803-5410-4c7b-cbe3-16d4c5af6fc3"
      },
      "execution_count": 138,
      "outputs": [
        {
          "output_type": "stream",
          "name": "stdout",
          "text": [
            "0.2234266996383667\n"
          ]
        }
      ]
    },
    {
      "cell_type": "markdown",
      "source": [
        "However, testing suggested it produced a higher mean absolute error (0.223). It is possible that the variation between months is related to the changes in weather over the year. This will be considered later.\n",
        "\n",
        "As per the analysis results, a further model was created with average speed, to see if this reduced the mean absolute error."
      ],
      "metadata": {
        "id": "VT7V34xYll7K"
      }
    },
    {
      "cell_type": "code",
      "source": [
        "# create a dataframe with the predictors and target at the end using the shuffled dataframe\n",
        "df1_input_data_weather_date_speed = [df1_build[\"temp_c\"], df1_build[\"slp_c\"], df1_build[\"visib_c\"], df1_build[\"wdsp_c\"], df1_build[\"prcp_c\"], df1_build[\"fog_c\"], df1_build[\"mon_1\"], df1_build[\"mon_2\"], df1_build[\"mon_3\"], df1_build[\"mon_4\"], df1_build[\"mon_5\"], df1_build[\"mon_6\"], df1_build[\"mon_7\"], df1_build[\"mon_8\"], df1_build[\"mon_9\"], df1_build[\"mon_10\"], df1_build[\"mon_11\"], df1_build[\"mon_12\"], df1_build[\"dow_1\"], df1_build[\"dow_2\"], df1_build[\"dow_3\"], df1_build[\"dow_4\"], df1_build[\"dow_5\"], df1_build[\"dow_6\"], df1_build[\"dow_7\"], df1_build[\"avg_speed_all\"], df1_build[\"total_collisions\"]]\n",
        "# create headers\n",
        "df1_input_headers_weather_date_speed = [\"temp\", \"slp\", \"visib\", \"wdsp\", \"prcp\", \"fog\", \"Jan\", \"Feb\", \"Mar\", \"Apr\", \"May\", \"Jun\", \"Jul\", \"Aug\", \"Sep\", \"Oct\", \"Nov\", \"Dec\", \"Sun\", \"Mon\", \"Tue\", \"Wed\", \"Thu\", \"Fri\", \"Sat\", \"avg_speed\", \"total_collisions\"]\n",
        "# combine data and headers\n",
        "df1_input_weather_date_speed = pd.concat(df1_input_data_weather_date_speed, axis=1, keys=df1_input_headers_weather_date_speed)\n",
        "\n",
        "# create a training dataset and test dataset\n",
        "training_df1_weather_date_speed = df1_input_weather_date_speed.sample(frac=0.7, random_state=0)\n",
        "test_df1_weather_date_speed = df1_input_weather_date_speed.drop(training_df1_weather_date_speed.index)\n",
        "\n",
        "# create copies and remove target\n",
        "training_features_df1_weather_date_speed = training_df1_weather_date_speed.copy()\n",
        "test_features_df1_weather_date_speed = test_df1_weather_date_speed.copy()\n",
        "\n",
        "training_labels_df1_weather_date_speed = training_features_df1_weather_date_speed.pop(\"total_collisions\")\n",
        "test_labels_df1_weather_date_speed = test_features_df1_weather_date_speed.pop(\"total_collisions\")\n",
        "\n",
        "# create normalisation layer\n",
        "normaliser_weather_date_speed = tf.keras.layers.Normalization(axis=-1)\n",
        "normaliser_weather_date_speed.adapt(np.array(training_features_df1_weather_date_speed))\n",
        "\n",
        "# create additional model and add normalisation layer\n",
        "m3 = tf.keras.Sequential([\n",
        "    normaliser_weather_date_speed,\n",
        "    layers.Dense(units=1)\n",
        "])\n",
        "\n",
        "# creating sequential model with optimiser and loss parameter (MAE)\n",
        "m3.compile(\n",
        "    optimizer=tf.optimizers.Adam(learning_rate=0.1),\n",
        "    loss='mean_absolute_error')\n",
        "\n",
        "# fit the model with training data, run 1000 times with 20% validation split\n",
        "history = m3.fit(\n",
        "    training_features_df1_weather_date_speed,\n",
        "    training_labels_df1_weather_date_speed,\n",
        "    epochs=1000,\n",
        "    verbose=0,\n",
        "    validation_split = 0.2)\n",
        "\n",
        "# check mean absolute error\n",
        "MAE_m3 = m3.evaluate(\n",
        "    test_features_df1_weather_date_speed,\n",
        "    test_labels_df1_weather_date_speed, verbose=0)\n",
        "print(MAE_m3)"
      ],
      "metadata": {
        "colab": {
          "base_uri": "https://localhost:8080/"
        },
        "id": "bY1we09gmU5d",
        "outputId": "50465ed4-2a79-45c7-c64f-faa79341bb20"
      },
      "execution_count": 139,
      "outputs": [
        {
          "output_type": "stream",
          "name": "stdout",
          "text": [
            "0.18590649962425232\n"
          ]
        }
      ]
    },
    {
      "cell_type": "markdown",
      "source": [
        "This did decrease the mean absolute error (0.186), but is still larger than the model using just weather variables (0.159).\n",
        "\n",
        "It was suspected that the month variable could be the cause of the error, as it tracks the change in season, which is also tracked through the weather variables. The model was further refined by using only the weather variables, day of the week and average speed."
      ],
      "metadata": {
        "id": "p4ZpT2n0u-QI"
      }
    },
    {
      "cell_type": "code",
      "source": [
        "# create a dataframe with the predictors and target at the end using the shuffled dataframe\n",
        "df1_input_data_weather_dow_speed = [df1_build[\"temp_c\"], df1_build[\"slp_c\"], df1_build[\"visib_c\"], df1_build[\"wdsp_c\"], df1_build[\"prcp_c\"], df1_build[\"fog_c\"], df1_build[\"dow_1\"], df1_build[\"dow_2\"], df1_build[\"dow_3\"], df1_build[\"dow_4\"], df1_build[\"dow_5\"], df1_build[\"dow_6\"], df1_build[\"dow_7\"], df1_build[\"avg_speed_all\"], df1_build[\"total_collisions\"]]\n",
        "# create headers\n",
        "df1_input_headers_weather_dow_speed = [\"temp\", \"slp\", \"visib\", \"wdsp\", \"prcp\", \"fog\", \"Sun\", \"Mon\", \"Tue\", \"Wed\", \"Thu\", \"Fri\", \"Sat\", \"avg_speed\", \"total_collisions\"]\n",
        "# combine data and headers\n",
        "df1_input_weather_dow_speed = pd.concat(df1_input_data_weather_dow_speed, axis=1, keys=df1_input_headers_weather_dow_speed)\n",
        "\n",
        "# create a training dataset and test dataset\n",
        "training_df1_weather_dow_speed = df1_input_weather_dow_speed.sample(frac=0.7, random_state=0)\n",
        "test_df1_weather_dow_speed = df1_input_weather_dow_speed.drop(training_df1_weather_dow_speed.index)\n",
        "\n",
        "# create copies and remove target\n",
        "training_features_df1_weather_dow_speed = training_df1_weather_dow_speed.copy()\n",
        "test_features_df1_weather_dow_speed = test_df1_weather_dow_speed.copy()\n",
        "\n",
        "training_labels_df1_weather_dow_speed = training_features_df1_weather_dow_speed.pop(\"total_collisions\")\n",
        "test_labels_df1_weather_dow_speed = test_features_df1_weather_dow_speed.pop(\"total_collisions\")\n",
        "\n",
        "# create normalisation layer\n",
        "normaliser_weather_dow_speed = tf.keras.layers.Normalization(axis=-1)\n",
        "normaliser_weather_dow_speed.adapt(np.array(training_features_df1_weather_dow_speed))\n",
        "\n",
        "# create additional model and add normalisation layer\n",
        "m4 = tf.keras.Sequential([\n",
        "    normaliser_weather_dow_speed,\n",
        "    layers.Dense(units=1)\n",
        "])\n",
        "\n",
        "# creating sequential model with optimiser and loss parameter (MAE)\n",
        "m4.compile(\n",
        "    optimizer=tf.optimizers.Adam(learning_rate=0.1),\n",
        "    loss='mean_absolute_error')\n",
        "\n",
        "# fit the model with training data, run 1000 times with 20% validation split\n",
        "history = m4.fit(\n",
        "    training_features_df1_weather_dow_speed,\n",
        "    training_labels_df1_weather_dow_speed,\n",
        "    epochs=1000,\n",
        "    verbose=0,\n",
        "    validation_split = 0.2)\n",
        "\n",
        "# check mean absolute error\n",
        "MAE_m4 = m4.evaluate(\n",
        "    test_features_df1_weather_dow_speed,\n",
        "    test_labels_df1_weather_dow_speed, verbose=0)\n",
        "print(MAE_m4)"
      ],
      "metadata": {
        "colab": {
          "base_uri": "https://localhost:8080/"
        },
        "id": "EYCMtOoDu96a",
        "outputId": "21fd2845-02e5-4033-df84-8c3489b50be2"
      },
      "execution_count": 140,
      "outputs": [
        {
          "output_type": "stream",
          "name": "stdout",
          "text": [
            "0.11993241310119629\n"
          ]
        }
      ]
    },
    {
      "cell_type": "markdown",
      "source": [
        "Removing month produced a model with the lowest mean absolute error: 0.120.\n",
        "\n",
        "Finally, a model was created without average speed, as it is unlikely this will be known many days in advance for future planning."
      ],
      "metadata": {
        "id": "hKvxIxweYf_I"
      }
    },
    {
      "cell_type": "code",
      "source": [
        "# create a dataframe with the predictors and target at the end using the shuffled dataframe\n",
        "df1_input_data_weather_dow = [df1_build[\"temp_c\"], df1_build[\"slp_c\"], df1_build[\"visib_c\"], df1_build[\"wdsp_c\"], df1_build[\"prcp_c\"], df1_build[\"fog_c\"], df1_build[\"dow_1\"], df1_build[\"dow_2\"], df1_build[\"dow_3\"], df1_build[\"dow_4\"], df1_build[\"dow_5\"], df1_build[\"dow_6\"], df1_build[\"dow_7\"], df1_build[\"total_collisions\"]]\n",
        "# create headers\n",
        "df1_input_headers_weather_dow = [\"temp\", \"slp\", \"visib\", \"wdsp\", \"prcp\", \"fog\", \"Sun\", \"Mon\", \"Tue\", \"Wed\", \"Thu\", \"Fri\", \"Sat\", \"total_collisions\"]\n",
        "# combine data and headers\n",
        "df1_input_weather_dow = pd.concat(df1_input_data_weather_dow, axis=1, keys=df1_input_headers_weather_dow)\n",
        "\n",
        "# create a training dataset and test dataset\n",
        "training_df1_weather_dow = df1_input_weather_dow.sample(frac=0.7, random_state=0)\n",
        "test_df1_weather_dow = df1_input_weather_dow.drop(training_df1_weather_dow.index)\n",
        "\n",
        "# create copies and remove target\n",
        "training_features_df1_weather_dow = training_df1_weather_dow.copy()\n",
        "test_features_df1_weather_dow = test_df1_weather_dow.copy()\n",
        "\n",
        "training_labels_df1_weather_dow = training_features_df1_weather_dow.pop(\"total_collisions\")\n",
        "test_labels_df1_weather_dow = test_features_df1_weather_dow.pop(\"total_collisions\")\n",
        "\n",
        "# create normalisation layer\n",
        "normaliser_weather_dow = tf.keras.layers.Normalization(axis=-1)\n",
        "normaliser_weather_dow.adapt(np.array(training_features_df1_weather_dow))\n",
        "\n",
        "# create additional model and add normalisation layer\n",
        "m5 = tf.keras.Sequential([\n",
        "    normaliser_weather_dow,\n",
        "    layers.Dense(units=1)\n",
        "])\n",
        "\n",
        "# creating sequential model with optimiser and loss parameter (MAE)\n",
        "m5.compile(\n",
        "    optimizer=tf.optimizers.Adam(learning_rate=0.1),\n",
        "    loss='mean_absolute_error')\n",
        "\n",
        "# fit the model with training data, run 1000 times with 20% validation split\n",
        "history = m5.fit(\n",
        "    training_features_df1_weather_dow,\n",
        "    training_labels_df1_weather_dow,\n",
        "    epochs=1000,\n",
        "    verbose=0,\n",
        "    validation_split = 0.2)\n",
        "\n",
        "# check mean absolute error\n",
        "MAE_m5 = m5.evaluate(\n",
        "    test_features_df1_weather_dow,\n",
        "    test_labels_df1_weather_dow, verbose=0)\n",
        "print(MAE_m5)"
      ],
      "metadata": {
        "colab": {
          "base_uri": "https://localhost:8080/"
        },
        "id": "9X2mXv3__UdE",
        "outputId": "33b03c0e-1804-46a1-adc5-e25e8525c706"
      },
      "execution_count": 141,
      "outputs": [
        {
          "output_type": "stream",
          "name": "stdout",
          "text": [
            "0.12271690368652344\n"
          ]
        }
      ]
    },
    {
      "cell_type": "markdown",
      "source": [
        "This second model had a mean absolute error of 0.123, which was lower than the model using just weather variables, although not as low as the model that uses average speed as was expected."
      ],
      "metadata": {
        "id": "xOLOlP7wwUhP"
      }
    },
    {
      "cell_type": "markdown",
      "source": [
        "### Deep Neural Network Regressors"
      ],
      "metadata": {
        "id": "wwSvML0DZkZu"
      }
    },
    {
      "cell_type": "markdown",
      "source": [
        "The linear regression models created above were then used to train deep neural network regressors to check for additional non-linear effects between the variables and better understand whether weather can be used to predict the number of collisions on a specific day."
      ],
      "metadata": {
        "id": "9s_V_vgdZomD"
      }
    },
    {
      "cell_type": "code",
      "source": [
        "# Check the dataframe size\n",
        "df1_input_weather_dow_speed.shape"
      ],
      "metadata": {
        "colab": {
          "base_uri": "https://localhost:8080/"
        },
        "id": "Hrbl46Uk5ZWp",
        "outputId": "ed1af371-a464-4ac2-e554-dbb42b24e036"
      },
      "execution_count": 142,
      "outputs": [
        {
          "output_type": "execute_result",
          "data": {
            "text/plain": [
              "(318, 15)"
            ]
          },
          "metadata": {},
          "execution_count": 142
        }
      ]
    },
    {
      "cell_type": "markdown",
      "source": [
        "As the first linear model contains 14 variables, the first model tested used a single hidden layer and 8 neurons (the mean of the input and output neurons)."
      ],
      "metadata": {
        "id": "hENAH0On7fOC"
      }
    },
    {
      "cell_type": "code",
      "source": [
        "# design model\n",
        "dnn_m1 = keras.Sequential([\n",
        "      normaliser_weather_dow_speed,\n",
        "      layers.Dense(8, activation='relu'),\n",
        "      layers.Dense(1)\n",
        "  ])\n",
        "\n",
        "dnn_m1.compile(loss='mean_absolute_error',\n",
        "                optimizer=tf.keras.optimizers.Adam(0.001))\n",
        "\n",
        "# fit model\n",
        "history = dnn_m1.fit(\n",
        "    training_features_df1_weather_dow_speed,\n",
        "    training_labels_df1_weather_dow_speed,\n",
        "    epochs=1000,\n",
        "    verbose=0,\n",
        "    validation_split = 0.2)\n",
        "\n",
        "# test model\n",
        "MAE_dnn_m1 = dnn_m1.evaluate(\n",
        "    test_features_df1_weather_dow_speed,\n",
        "    test_labels_df1_weather_dow_speed, verbose=0)\n",
        "print(MAE_dnn_m1)"
      ],
      "metadata": {
        "colab": {
          "base_uri": "https://localhost:8080/"
        },
        "id": "Gs5SmnKWBOM7",
        "outputId": "929e677a-bed4-44bc-c93f-2332840d27d8"
      },
      "execution_count": 143,
      "outputs": [
        {
          "output_type": "stream",
          "name": "stdout",
          "text": [
            "0.13904285430908203\n"
          ]
        }
      ]
    },
    {
      "cell_type": "markdown",
      "source": [
        "The mean absolute error of this model was 0.139, slightly higher than the linear regression model. To reduce this, two further models were tested: The first increased the number of neurons to eleven (number of samples divided by two times the combined total of input and output neurons) and the second added an additional hidden layer."
      ],
      "metadata": {
        "id": "Wy_yQ8u18KTX"
      }
    },
    {
      "cell_type": "code",
      "source": [
        "# design model\n",
        "dnn_m2 = keras.Sequential([\n",
        "      normaliser_weather_dow_speed,\n",
        "      layers.Dense(11, activation='relu'),\n",
        "      layers.Dense(1)\n",
        "  ])\n",
        "\n",
        "dnn_m2.compile(loss='mean_absolute_error',\n",
        "                optimizer=tf.keras.optimizers.Adam(0.001))\n",
        "\n",
        "# fit model\n",
        "history = dnn_m2.fit(\n",
        "    training_features_df1_weather_dow_speed,\n",
        "    training_labels_df1_weather_dow_speed,\n",
        "    epochs=1000,\n",
        "    verbose=0,\n",
        "    validation_split = 0.2)\n",
        "\n",
        "# test model\n",
        "MAE_dnn_m2 = dnn_m2.evaluate(\n",
        "    test_features_df1_weather_dow_speed,\n",
        "    test_labels_df1_weather_dow_speed, verbose=0)\n",
        "print(MAE_dnn_m2)"
      ],
      "metadata": {
        "colab": {
          "base_uri": "https://localhost:8080/"
        },
        "id": "t9BPW5FS7wuz",
        "outputId": "7c1305f5-1fc8-4833-a95e-73782b0fc5f4"
      },
      "execution_count": 144,
      "outputs": [
        {
          "output_type": "stream",
          "name": "stdout",
          "text": [
            "0.12315217405557632\n"
          ]
        }
      ]
    },
    {
      "cell_type": "code",
      "source": [
        "# design model\n",
        "dnn_m3 = keras.Sequential([\n",
        "      normaliser_weather_dow_speed,\n",
        "      layers.Dense(8, activation='relu'),\n",
        "      layers.Dense(8, activation='relu'),\n",
        "      layers.Dense(1)\n",
        "  ])\n",
        "\n",
        "dnn_m3.compile(loss='mean_absolute_error',\n",
        "                optimizer=tf.keras.optimizers.Adam(0.001))\n",
        "\n",
        "# fit model\n",
        "history = dnn_m3.fit(\n",
        "    training_features_df1_weather_dow_speed,\n",
        "    training_labels_df1_weather_dow_speed,\n",
        "    epochs=1000,\n",
        "    verbose=0,\n",
        "    validation_split = 0.2)\n",
        "\n",
        "# test model\n",
        "MAE_dnn_m3 = dnn_m3.evaluate(\n",
        "    test_features_df1_weather_dow_speed,\n",
        "    test_labels_df1_weather_dow_speed, verbose=0)\n",
        "print(MAE_dnn_m3)"
      ],
      "metadata": {
        "colab": {
          "base_uri": "https://localhost:8080/"
        },
        "id": "0RvcrJMe-QkJ",
        "outputId": "6e1c5c6d-5e18-4987-b416-08c703f5a44f"
      },
      "execution_count": 145,
      "outputs": [
        {
          "output_type": "stream",
          "name": "stdout",
          "text": [
            "0.1537146270275116\n"
          ]
        }
      ]
    },
    {
      "cell_type": "markdown",
      "source": [
        "The model that increased the number of neurons had a smaller mean absolute error, but increasing the number of hidden layers increased the mean absolute error. Further models were tested using a single hidden layer to establish the optimal number of neurons to minimise the mean absolute error."
      ],
      "metadata": {
        "id": "ticwMxWV-9Ok"
      }
    },
    {
      "cell_type": "code",
      "source": [
        "# design model\n",
        "dnn_m4 = keras.Sequential([\n",
        "      normaliser_weather_dow_speed,\n",
        "      layers.Dense(10, activation='relu'),\n",
        "      layers.Dense(1)\n",
        "  ])\n",
        "\n",
        "dnn_m4.compile(loss='mean_absolute_error',\n",
        "                optimizer=tf.keras.optimizers.Adam(0.001))\n",
        "\n",
        "# fit model\n",
        "history = dnn_m4.fit(\n",
        "    training_features_df1_weather_dow_speed,\n",
        "    training_labels_df1_weather_dow_speed,\n",
        "    epochs=1000,\n",
        "    verbose=0,\n",
        "    validation_split = 0.2)\n",
        "\n",
        "# test model\n",
        "MAE_dnn_m4 = dnn_m4.evaluate(\n",
        "    test_features_df1_weather_dow_speed,\n",
        "    test_labels_df1_weather_dow_speed, verbose=0)\n",
        "print(MAE_dnn_m4)"
      ],
      "metadata": {
        "colab": {
          "base_uri": "https://localhost:8080/"
        },
        "id": "kxBxro3M_XaC",
        "outputId": "c852b1e8-663b-41ac-bcc7-9754a331a02e"
      },
      "execution_count": 146,
      "outputs": [
        {
          "output_type": "stream",
          "name": "stdout",
          "text": [
            "0.1505570113658905\n"
          ]
        }
      ]
    },
    {
      "cell_type": "code",
      "source": [
        "# design model\n",
        "dnn_m5 = keras.Sequential([\n",
        "      normaliser_weather_dow_speed,\n",
        "      layers.Dense(12, activation='relu'),\n",
        "      layers.Dense(1)\n",
        "  ])\n",
        "\n",
        "dnn_m5.compile(loss='mean_absolute_error',\n",
        "                optimizer=tf.keras.optimizers.Adam(0.001))\n",
        "\n",
        "# fit model\n",
        "history = dnn_m5.fit(\n",
        "    training_features_df1_weather_dow_speed,\n",
        "    training_labels_df1_weather_dow_speed,\n",
        "    epochs=1000,\n",
        "    verbose=0,\n",
        "    validation_split = 0.2)\n",
        "\n",
        "# test model\n",
        "MAE_dnn_m5 = dnn_m5.evaluate(\n",
        "    test_features_df1_weather_dow_speed,\n",
        "    test_labels_df1_weather_dow_speed, verbose=0)\n",
        "print(MAE_dnn_m5)"
      ],
      "metadata": {
        "colab": {
          "base_uri": "https://localhost:8080/"
        },
        "id": "ItQQ9bON_gsd",
        "outputId": "8ff0ff7e-f122-409c-eb71-d95edc2d189e"
      },
      "execution_count": 147,
      "outputs": [
        {
          "output_type": "stream",
          "name": "stdout",
          "text": [
            "0.15924003720283508\n"
          ]
        }
      ]
    },
    {
      "cell_type": "markdown",
      "source": [
        "Further tests using models with higher and lower neurons did not produce a lower mean absolute error, therefore, the model is optimised when it has a single hidden layer with 11 neurons.\n",
        "\n",
        "These steps were then repeated using the variables from the second linear regression model for the second deep neural network regressor model."
      ],
      "metadata": {
        "id": "_hflx_cNq8vW"
      }
    },
    {
      "cell_type": "code",
      "source": [
        "# design model\n",
        "dnn_m6 = keras.Sequential([\n",
        "      normaliser_weather_dow,\n",
        "      layers.Dense(8, activation='relu'),\n",
        "      layers.Dense(1)\n",
        "  ])\n",
        "\n",
        "dnn_m6.compile(loss='mean_absolute_error',\n",
        "                optimizer=tf.keras.optimizers.Adam(0.001))\n",
        "\n",
        "# fit model\n",
        "history = dnn_m6.fit(\n",
        "    training_features_df1_weather_dow,\n",
        "    training_labels_df1_weather_dow,\n",
        "    epochs=1000,\n",
        "    verbose=0,\n",
        "    validation_split = 0.2)\n",
        "\n",
        "# test model\n",
        "MAE_dnn_m6 = dnn_m6.evaluate(\n",
        "    test_features_df1_weather_dow,\n",
        "    test_labels_df1_weather_dow, verbose=0)\n",
        "print(MAE_dnn_m6)"
      ],
      "metadata": {
        "colab": {
          "base_uri": "https://localhost:8080/"
        },
        "id": "DDoyi5AtcQHr",
        "outputId": "f8581c3b-0839-4248-892d-0b784fbfae81"
      },
      "execution_count": 148,
      "outputs": [
        {
          "output_type": "stream",
          "name": "stdout",
          "text": [
            "0.13832999765872955\n"
          ]
        }
      ]
    },
    {
      "cell_type": "code",
      "source": [
        "# design model\n",
        "dnn_m7 = keras.Sequential([\n",
        "      normaliser_weather_dow,\n",
        "      layers.Dense(8, activation='relu'),\n",
        "      layers.Dense(8, activation='relu'),\n",
        "      layers.Dense(1)\n",
        "  ])\n",
        "\n",
        "dnn_m7.compile(loss='mean_absolute_error',\n",
        "                optimizer=tf.keras.optimizers.Adam(0.001))\n",
        "\n",
        "# fit model\n",
        "history = dnn_m7.fit(\n",
        "    training_features_df1_weather_dow,\n",
        "    training_labels_df1_weather_dow,\n",
        "    epochs=1000,\n",
        "    verbose=0,\n",
        "    validation_split = 0.2)\n",
        "\n",
        "# test model\n",
        "MAE_dnn_m7 = dnn_m7.evaluate(\n",
        "    test_features_df1_weather_dow,\n",
        "    test_labels_df1_weather_dow, verbose=0)\n",
        "print(MAE_dnn_m7)"
      ],
      "metadata": {
        "colab": {
          "base_uri": "https://localhost:8080/"
        },
        "id": "D0ULyxitcsGY",
        "outputId": "4a8a283b-11b8-4fd5-9f91-aad8989632ad"
      },
      "execution_count": 149,
      "outputs": [
        {
          "output_type": "stream",
          "name": "stdout",
          "text": [
            "0.15465085208415985\n"
          ]
        }
      ]
    },
    {
      "cell_type": "code",
      "source": [
        "# design model\n",
        "dnn_m8 = keras.Sequential([\n",
        "      normaliser_weather_dow,\n",
        "      layers.Dense(11, activation='relu'),\n",
        "      layers.Dense(1)\n",
        "  ])\n",
        "\n",
        "dnn_m8.compile(loss='mean_absolute_error',\n",
        "                optimizer=tf.keras.optimizers.Adam(0.001))\n",
        "\n",
        "# fit model\n",
        "history = dnn_m8.fit(\n",
        "    training_features_df1_weather_dow,\n",
        "    training_labels_df1_weather_dow,\n",
        "    epochs=1000,\n",
        "    verbose=0,\n",
        "    validation_split = 0.2)\n",
        "\n",
        "# test model\n",
        "MAE_dnn_m8 = dnn_m8.evaluate(\n",
        "    test_features_df1_weather_dow,\n",
        "    test_labels_df1_weather_dow, verbose=0)\n",
        "print(MAE_dnn_m8)"
      ],
      "metadata": {
        "colab": {
          "base_uri": "https://localhost:8080/"
        },
        "id": "oaKHgHPdczoI",
        "outputId": "bc6515f7-cec4-46de-c52d-82886076ebd9"
      },
      "execution_count": 150,
      "outputs": [
        {
          "output_type": "stream",
          "name": "stdout",
          "text": [
            "0.1522296518087387\n"
          ]
        }
      ]
    },
    {
      "cell_type": "code",
      "source": [
        "# design model\n",
        "dnn_m9 = keras.Sequential([\n",
        "      normaliser_weather_dow,\n",
        "      layers.Dense(9, activation='relu'),\n",
        "      layers.Dense(1)\n",
        "  ])\n",
        "\n",
        "dnn_m9.compile(loss='mean_absolute_error',\n",
        "                optimizer=tf.keras.optimizers.Adam(0.001))\n",
        "\n",
        "# fit model\n",
        "history = dnn_m9.fit(\n",
        "    training_features_df1_weather_dow,\n",
        "    training_labels_df1_weather_dow,\n",
        "    epochs=1000,\n",
        "    verbose=0,\n",
        "    validation_split = 0.2)\n",
        "\n",
        "# test model\n",
        "MAE_dnn_m9 = dnn_m9.evaluate(\n",
        "    test_features_df1_weather_dow,\n",
        "    test_labels_df1_weather_dow, verbose=0)\n",
        "print(MAE_dnn_m9)"
      ],
      "metadata": {
        "colab": {
          "base_uri": "https://localhost:8080/"
        },
        "id": "3NNK7N3TdqJA",
        "outputId": "18ba326a-bd07-4994-d1c3-e66ff8b05898"
      },
      "execution_count": 151,
      "outputs": [
        {
          "output_type": "stream",
          "name": "stdout",
          "text": [
            "0.1608976423740387\n"
          ]
        }
      ]
    },
    {
      "cell_type": "code",
      "source": [
        "# design model\n",
        "dnn_m10 = keras.Sequential([\n",
        "      normaliser_weather_dow,\n",
        "      layers.Dense(7, activation='relu'),\n",
        "      layers.Dense(1)\n",
        "  ])\n",
        "\n",
        "dnn_m10.compile(loss='mean_absolute_error',\n",
        "                optimizer=tf.keras.optimizers.Adam(0.001))\n",
        "\n",
        "# fit model\n",
        "history = dnn_m10.fit(\n",
        "    training_features_df1_weather_dow,\n",
        "    training_labels_df1_weather_dow,\n",
        "    epochs=1000,\n",
        "    verbose=0,\n",
        "    validation_split = 0.2)\n",
        "\n",
        "# test model\n",
        "MAE_dnn_m10 = dnn_m10.evaluate(\n",
        "    test_features_df1_weather_dow,\n",
        "    test_labels_df1_weather_dow, verbose=0)\n",
        "print(MAE_dnn_m10)"
      ],
      "metadata": {
        "colab": {
          "base_uri": "https://localhost:8080/"
        },
        "id": "UlJX2IJcd-JG",
        "outputId": "4a926564-b6aa-4c6f-8a9c-8f6a33ef1320"
      },
      "execution_count": 152,
      "outputs": [
        {
          "output_type": "stream",
          "name": "stdout",
          "text": [
            "0.1315169483423233\n"
          ]
        }
      ]
    },
    {
      "cell_type": "code",
      "source": [
        "# design model\n",
        "dnn_m11 = keras.Sequential([\n",
        "      normaliser_weather_dow,\n",
        "      layers.Dense(6, activation='relu'),\n",
        "      layers.Dense(1)\n",
        "  ])\n",
        "\n",
        "dnn_m11.compile(loss='mean_absolute_error',\n",
        "                optimizer=tf.keras.optimizers.Adam(0.001))\n",
        "\n",
        "# fit model\n",
        "history = dnn_m11.fit(\n",
        "    training_features_df1_weather_dow,\n",
        "    training_labels_df1_weather_dow,\n",
        "    epochs=1000,\n",
        "    verbose=0,\n",
        "    validation_split = 0.2)\n",
        "\n",
        "# test model\n",
        "MAE_dnn_m11 = dnn_m11.evaluate(\n",
        "    test_features_df1_weather_dow,\n",
        "    test_labels_df1_weather_dow, verbose=0)\n",
        "print(MAE_dnn_m11)"
      ],
      "metadata": {
        "colab": {
          "base_uri": "https://localhost:8080/"
        },
        "id": "3dOtcBxW0FRJ",
        "outputId": "be0db178-17f0-41a7-a9dc-5903a0260c79"
      },
      "execution_count": 153,
      "outputs": [
        {
          "output_type": "stream",
          "name": "stdout",
          "text": [
            "0.13761399686336517\n"
          ]
        }
      ]
    },
    {
      "cell_type": "markdown",
      "source": [
        "Using seven neurons and one hidden layer produced a mean absolute error of 0.132. This was the most improved model compared to adding an addition hidden layer or varying the number of neurons."
      ],
      "metadata": {
        "id": "I1Ggw8Ijdaxu"
      }
    },
    {
      "cell_type": "markdown",
      "source": [
        "# Results"
      ],
      "metadata": {
        "id": "OCW7Y8bykykr"
      }
    },
    {
      "cell_type": "markdown",
      "source": [
        "To understand if there is a relationship between the weather and the number of collisions, a set of linear regression and deep neural network regressor models were designed using information about the weather (temperature, sea level pressure, visibility, windspeed, precipitation and fog) and day of the week. One set also included average speed information. These will be tested using the inputs from validation dataframe in turn to understand how well they are able to predict the number of actual collisions. Shown below is the validation dataframe."
      ],
      "metadata": {
        "id": "UKI9aNG8EgO8"
      }
    },
    {
      "cell_type": "code",
      "source": [
        "# create a dataframe with the predictors and target at the end using the shuffled dataframe\n",
        "df1_validate_data_weather_dow_speed = [df1_validate[\"temp_c\"], df1_validate[\"slp_c\"], df1_validate[\"visib_c\"], df1_validate[\"wdsp_c\"], df1_validate[\"prcp_c\"], df1_validate[\"fog_c\"], df1_validate[\"dow_1\"], df1_validate[\"dow_2\"], df1_validate[\"dow_3\"], df1_validate[\"dow_4\"], df1_validate[\"dow_5\"], df1_validate[\"dow_6\"], df1_validate[\"dow_7\"], df1_validate[\"avg_speed_all\"], df1_validate[\"total_collisions\"]]\n",
        "# create headers\n",
        "df1_validate_headers_weather_dow_speed = [\"temp\", \"slp\", \"visib\", \"wdsp\", \"prcp\", \"fog\", \"Sun\", \"Mon\", \"Tue\", \"Wed\", \"Thu\", \"Fri\", \"Sat\", \"avg_speed\", \"total_collisions\"]\n",
        "# combine data and headers\n",
        "df1_validate_weather_dow_speed = pd.concat(df1_validate_data_weather_dow_speed, axis=1, keys=df1_validate_headers_weather_dow_speed)\n",
        "df1_validate_weather_dow_speed = df1_validate_weather_dow_speed.reset_index(drop=True)\n",
        "\n",
        "print(df1_validate_weather_dow_speed)\n"
      ],
      "metadata": {
        "colab": {
          "base_uri": "https://localhost:8080/"
        },
        "id": "98hf640wHas3",
        "outputId": "82a45f5f-dded-4c39-fc56-822cbf88ea84"
      },
      "execution_count": 154,
      "outputs": [
        {
          "output_type": "stream",
          "name": "stdout",
          "text": [
            "        temp       slp     visib      wdsp      prcp  fog  Sun  Mon  Tue  Wed  \\\n",
            "0   0.648494  0.654412  1.000000  0.302128  0.000000  0.0    0    0    0    1   \n",
            "1   0.497848  0.607843  1.000000  0.502128  0.000000  0.0    0    0    0    0   \n",
            "2   0.459110  0.147059  0.921348  0.753191  0.148387  0.0    0    0    0    1   \n",
            "3   0.492109  0.338235  1.000000  0.353191  0.064516  0.0    0    0    1    0   \n",
            "4   0.480631  0.759804  1.000000  0.217021  0.000000  0.0    0    0    0    0   \n",
            "5   0.890961  0.487745  1.000000  0.370213  0.012903  0.0    0    0    0    0   \n",
            "6   0.492109  0.634804  1.000000  0.425532  0.000000  0.0    0    0    0    0   \n",
            "7   0.684362  0.718137  1.000000  0.114894  0.000000  0.0    0    0    0    0   \n",
            "8   0.787661  0.411765  0.955056  0.212766  0.109677  0.0    1    0    0    0   \n",
            "9   0.835007  0.705882  1.000000  0.148936  0.000000  0.0    0    0    0    0   \n",
            "10  0.961263  0.424020  0.910112  0.140426  0.000000  0.0    0    0    0    1   \n",
            "11  1.000000  0.526961  0.831461  0.293617  0.006452  0.0    0    0    0    0   \n",
            "12  0.502152  0.921569  1.000000  0.174468  0.000000  0.0    1    0    0    0   \n",
            "13  0.611191  0.762255  1.000000  0.344681  0.000000  0.0    0    0    0    0   \n",
            "14  0.664275  0.754902  0.966292  0.425532  0.000000  0.0    0    0    0    0   \n",
            "15  0.928264  0.372549  0.842697  0.506383  0.000000  0.0    0    0    1    0   \n",
            "16  0.958393  0.497549  0.955056  0.204255  0.000000  0.0    0    0    0    1   \n",
            "\n",
            "    Thu  Fri  Sat  avg_speed  total_collisions  \n",
            "0     0    0    0   0.330741          0.500000  \n",
            "1     1    0    0   0.505146          0.653846  \n",
            "2     0    0    0   0.509231          0.576923  \n",
            "3     0    0    0   0.459546          0.341346  \n",
            "4     0    0    1   0.783673          0.471154  \n",
            "5     0    0    1   0.320965          0.519231  \n",
            "6     0    0    1   0.723498          0.504808  \n",
            "7     1    0    0   0.381546          0.764423  \n",
            "8     0    0    0   0.451981          0.754808  \n",
            "9     1    0    0   0.299549          0.456731  \n",
            "10    0    0    0   0.337604          0.625000  \n",
            "11    0    1    0   0.250767          0.605769  \n",
            "12    0    0    0   0.629223          0.365385  \n",
            "13    1    0    0   0.295868          0.759615  \n",
            "14    1    0    0   0.456169          0.576923  \n",
            "15    0    0    0   0.370812          0.394231  \n",
            "16    0    0    0   0.212738          0.576923  \n"
          ]
        }
      ]
    },
    {
      "cell_type": "code",
      "source": [
        "print(\"Train/Test LR:\", MAE_m4)\n",
        "print(\"Train/Test DNN:\", MAE_dnn_m2)"
      ],
      "metadata": {
        "colab": {
          "base_uri": "https://localhost:8080/"
        },
        "id": "dXglbwyQsGVy",
        "outputId": "e50cf521-8f69-4106-add8-05c21513922b"
      },
      "execution_count": 155,
      "outputs": [
        {
          "output_type": "stream",
          "name": "stdout",
          "text": [
            "Train/Test LR: 0.11993241310119629\n",
            "Train/Test DNN: 0.12315217405557632\n"
          ]
        }
      ]
    },
    {
      "cell_type": "markdown",
      "source": [
        "In training, the linear regression model produced a mean absolute error value of 0.120, compared to the deep neural network regressor model with a mean absolute error value of 0.123. Based on these results, the linear regression model is expected to be slightly better at predicting the number of collisions."
      ],
      "metadata": {
        "id": "Gavc_snPsJum"
      }
    },
    {
      "cell_type": "code",
      "source": [
        "# derive predictions using linear model\n",
        "linear_predictions = m4.predict(df1_validate_weather_dow_speed.loc[:, df1_validate_weather_dow_speed.columns != 'total_collisions'])\n",
        "df_predictions_lr = pd.DataFrame(linear_predictions, columns = ['predictions_lr'])\n",
        "\n",
        "# derive predictions using dnn\n",
        "dnn_predictions = dnn_m2.predict(df1_validate_weather_dow_speed.loc[:, df1_validate_weather_dow_speed.columns != 'total_collisions'])\n",
        "df_predictions_dnn = pd.DataFrame(dnn_predictions, columns = ['predictions_dnn'])\n",
        "\n",
        "# add predictions to table\n",
        "m1_final = df1_validate_weather_dow_speed.join(df_predictions_lr).join(df_predictions_dnn)"
      ],
      "metadata": {
        "colab": {
          "base_uri": "https://localhost:8080/"
        },
        "id": "dXb404dKslEc",
        "outputId": "c76a19cb-fd75-4c4a-fe5e-6b506df76395"
      },
      "execution_count": 156,
      "outputs": [
        {
          "output_type": "stream",
          "name": "stdout",
          "text": [
            "1/1 [==============================] - 0s 57ms/step\n",
            "1/1 [==============================] - 0s 73ms/step\n"
          ]
        }
      ]
    },
    {
      "cell_type": "code",
      "source": [
        "# calculate scale range\n",
        "total_collisions_range = total_collisions_max - total_collisions_min\n",
        "\n",
        "# multiple scaled values by range and add mean\n",
        "m1_final['total_collisions_unscaled'] = m1_final['total_collisions'] * total_collisions_range + total_collisions_mean\n",
        "m1_final['predictions_lr_unscaled'] = m1_final['predictions_lr'] * total_collisions_range + total_collisions_mean\n",
        "m1_final['predictions_dnn_unscaled'] = m1_final['predictions_dnn'] * total_collisions_range + total_collisions_mean\n",
        "m1_final['lr_error'] = m1_final['predictions_lr_unscaled'] - m1_final['total_collisions_unscaled']\n",
        "m1_final['dnn_error'] = m1_final['predictions_dnn_unscaled'] - m1_final['total_collisions_unscaled']\n",
        "\n",
        "# calculate mean absolute errors\n",
        "MAE_lr = m1_final.loc[:, 'lr_error'].mean()\n",
        "MAE_dnn = m1_final.loc[:, 'dnn_error'].mean()"
      ],
      "metadata": {
        "id": "dHRExmyb1yYM"
      },
      "execution_count": 157,
      "outputs": []
    },
    {
      "cell_type": "code",
      "source": [
        "print(\"MAE LR:\", MAE_lr)\n",
        "print(\"MAE DNN:\", MAE_dnn)"
      ],
      "metadata": {
        "colab": {
          "base_uri": "https://localhost:8080/"
        },
        "id": "bsDTdsxCAfmf",
        "outputId": "b3f9dd2e-34e7-4cae-9b03-8d56813656a5"
      },
      "execution_count": 158,
      "outputs": [
        {
          "output_type": "stream",
          "name": "stdout",
          "text": [
            "MAE LR: 0.5886635369224343\n",
            "MAE DNN: -13.679268232953484\n"
          ]
        }
      ]
    },
    {
      "cell_type": "code",
      "source": [
        "plt.scatter(m1_final['total_collisions_unscaled'], m1_final['predictions_lr_unscaled'])\n",
        "plt.scatter(m1_final['total_collisions_unscaled'], m1_final['predictions_dnn_unscaled'])\n",
        "plt.plot([320, 420], [320, 420], 'k-', alpha=0.5)\n",
        "plt.title(\"Actual values versus predictions\")\n",
        "plt.xlabel(\"Actual number of collisions\")\n",
        "plt.ylabel(\"Predicted number of collisions\")\n",
        "plt.legend(['Linear regression' , 'DNN regressor'])\n",
        "plt.show()"
      ],
      "metadata": {
        "colab": {
          "base_uri": "https://localhost:8080/",
          "height": 472
        },
        "id": "CrltOYWfumLR",
        "outputId": "92173249-acbb-4c8e-8480-3debf0b88ab7"
      },
      "execution_count": 159,
      "outputs": [
        {
          "output_type": "display_data",
          "data": {
            "text/plain": [
              "<Figure size 640x480 with 1 Axes>"
            ],
            "image/png": "[encoded data removed]"
          },
          "metadata": {}
        }
      ]
    },
    {
      "cell_type": "markdown",
      "source": [
        "Considering only the mean absolute error of the predictions suggests that the linear model is exceedingly good at predicting the number of collisions (0.59) compared to -13.7 for the deep neural network regressor model. However, the plot reveals that in many instances the deep neural network regressor model predicted a value closer to the actual figure than the linear regression model and that there are some large errors in the results."
      ],
      "metadata": {
        "id": "H5Tf--eJzETm"
      }
    },
    {
      "cell_type": "code",
      "source": [
        "m1_final['lr_error_sq'] = m1_final['lr_error']**2\n",
        "m1_final['dnn_error_sq'] = m1_final['dnn_error']**2\n",
        "\n",
        "MSE_lr = m1_final.loc[:, 'lr_error_sq'].mean()\n",
        "MSE_dnn = m1_final.loc[:, 'dnn_error_sq'].mean()\n",
        "\n",
        "print(MSE_lr, \"(\", np.sqrt(MSE_lr), \")\")\n",
        "print(MSE_dnn, \"(\", np.sqrt(MSE_dnn), \")\")"
      ],
      "metadata": {
        "colab": {
          "base_uri": "https://localhost:8080/"
        },
        "id": "DBe8aDC00Iar",
        "outputId": "57107a2b-19b7-4160-826a-303e876e5112"
      },
      "execution_count": 160,
      "outputs": [
        {
          "output_type": "stream",
          "name": "stdout",
          "text": [
            "651.4201909917117 ( 25.522934607754486 )\n",
            "1455.8562082637106 ( 38.15568382644597 )\n"
          ]
        }
      ]
    },
    {
      "cell_type": "markdown",
      "source": [
        "The mean squared error was calculated for both models to better understand this. The mean squared error for the linear regression model was 651.4 compared to 1455.9 for the deep neural network regressor model, meaning it still performed better of the two. However, the predicted values are plus or minus 25.5 of the actual number of collisions on average using the linear model and plus or minus 38.2 of the actual number on average using the deep neural network regressor model."
      ],
      "metadata": {
        "id": "NrOAdtcv085-"
      }
    },
    {
      "cell_type": "code",
      "source": [
        "tc_min = m1_final['total_collisions_unscaled'].min()\n",
        "tc_max = m1_final['total_collisions_unscaled'].max()\n",
        "\n",
        "print(\"Minimum collisions =\", tc_min, \"LR: (+/-\", np.sqrt(MSE_lr)/tc_min, \")\", \"DNN: (+/-\", np.sqrt(MSE_dnn)/tc_min, \")\")\n",
        "print(\"Maximum collisions =\", tc_max, \"LR: (+/-\", np.sqrt(MSE_lr)/tc_max, \")\", \"DNN: (+/-\", np.sqrt(MSE_dnn)/tc_max, \")\")"
      ],
      "metadata": {
        "colab": {
          "base_uri": "https://localhost:8080/"
        },
        "id": "NHMEjoRO3Sxq",
        "outputId": "5c08edb7-3e92-419c-d47b-1c1148358399"
      },
      "execution_count": 161,
      "outputs": [
        {
          "output_type": "stream",
          "name": "stdout",
          "text": [
            "Minimum collisions = 329.23582089552247 LR: (+/- 0.07752174273847853 ) DNN: (+/- 0.1158916539599561 )\n",
            "Maximum collisions = 417.2358208955224 LR: (+/- 0.061171484636611616 ) DNN: (+/- 0.0914487249549945 )\n"
          ]
        }
      ]
    },
    {
      "cell_type": "markdown",
      "source": [
        "To put this into perspective, the actual number of collisions in the validation dataset ranges from 329 to 417, suggesting the predicted values fall on average between plus or minus 6.1-7.8% for the linear model and 9.1-11.6% for the deep neural network model on average. This suggests both models would be able to give a good indication of the anticipated number of collisions.\n",
        "\n",
        "However, as the model includes average speed which can only be estimated within a few hours of the event, a further set of predictions were created for the models that exclude this variable."
      ],
      "metadata": {
        "id": "vBKYDKd43-Nm"
      }
    },
    {
      "cell_type": "code",
      "source": [
        "# derive predictions using linear model\n",
        "linear_predictions_2 = m5.predict(df1_validate_weather_dow_speed.iloc[:, :-2])\n",
        "df_predictions_lr_2 = pd.DataFrame(linear_predictions_2, columns = ['predictions_lr_2'])\n",
        "\n",
        "# derive predictions using dnn\n",
        "dnn_predictions_2 = dnn_m10.predict(df1_validate_weather_dow_speed.iloc[:, :-2])\n",
        "df_predictions_dnn_2 = pd.DataFrame(dnn_predictions_2, columns = ['predictions_dnn_2'])\n",
        "\n",
        "# add predictions to table\n",
        "m1_final_2 = m1_final.join(df_predictions_lr_2).join(df_predictions_dnn_2)\n",
        "\n",
        "# calculate linear model efficacy\n",
        "m1_final_2['predictions_lr_unscaled_2'] = m1_final_2['predictions_lr_2'] * total_collisions_range + total_collisions_mean\n",
        "m1_final_2['lr_error_2'] = m1_final_2['predictions_lr_unscaled_2'] - m1_final_2['total_collisions_unscaled']\n",
        "m1_final_2['lr_error_sq_2'] = m1_final_2['lr_error_2']**2\n",
        "\n",
        "MAE_lr_2 = m1_final_2.loc[:, 'lr_error_2'].mean()\n",
        "MSE_lr_2 = m1_final_2.loc[:, 'lr_error_sq_2'].mean()\n",
        "\n",
        "# calculate dnn model efficacy\n",
        "m1_final_2['predictions_dnn_unscaled_2'] = m1_final_2['predictions_dnn_2'] * total_collisions_range + total_collisions_mean\n",
        "m1_final_2['dnn_error_2'] = m1_final_2['predictions_dnn_unscaled_2'] - m1_final_2['total_collisions_unscaled']\n",
        "m1_final_2['dnn_error_sq_2'] = m1_final_2['dnn_error_2']**2\n",
        "\n",
        "MAE_dnn_2 = m1_final_2.loc[:, 'dnn_error_2'].mean()\n",
        "MSE_dnn_2 = m1_final_2.loc[:, 'dnn_error_sq_2'].mean()\n",
        "\n",
        "print(\"---LR---\")\n",
        "print(\"MAE =\", MAE_lr_2)\n",
        "print(\"MSE =\", MSE_lr_2, \"(\", np.sqrt(MSE_lr_2), \")\")\n",
        "print(\"Minimum collisions =\", tc_min, \"(+/-\", np.sqrt(MSE_lr_2)/tc_min, \")\")\n",
        "print(\"Maximum collisions =\", tc_max, \"(+/-\", np.sqrt(MSE_lr_2)/tc_max, \")\")\n",
        "\n",
        "print(\"---DNN---\")\n",
        "print(\"MAE =\", MAE_dnn_2)\n",
        "print(\"MSE =\", MSE_dnn_2, \"(\", np.sqrt(MSE_dnn_2), \")\")\n",
        "print(\"Minimum collisions =\", tc_min, \"(+/-\", np.sqrt(MSE_dnn_2)/tc_min, \")\")\n",
        "print(\"Maximum collisions =\", tc_max, \"(+/-\", np.sqrt(MSE_dnn_2)/tc_max, \")\")"
      ],
      "metadata": {
        "colab": {
          "base_uri": "https://localhost:8080/"
        },
        "id": "p6Wukl5nCocB",
        "outputId": "381a1e1e-8f79-4a3d-cae9-cb287730be16"
      },
      "execution_count": 162,
      "outputs": [
        {
          "output_type": "stream",
          "name": "stdout",
          "text": [
            "1/1 [==============================] - 0s 57ms/step\n",
            "1/1 [==============================] - 0s 62ms/step\n",
            "---LR---\n",
            "MAE = -10.842607286836756\n",
            "MSE = 860.1115339942244 ( 29.327658174396134 )\n",
            "Minimum collisions = 329.23582089552247 (+/- 0.0890779687781992 )\n",
            "Maximum collisions = 417.2358208955224 (+/- 0.07029036507807393 )\n",
            "---DNN---\n",
            "MAE = -21.04592077776047\n",
            "MSE = 1767.357736268393 ( 42.03995404693484 )\n",
            "Minimum collisions = 329.23582089552247 (+/- 0.12768948996067933 )\n",
            "Maximum collisions = 417.2358208955224 (+/- 0.10075825694137086 )\n"
          ]
        }
      ]
    },
    {
      "cell_type": "code",
      "source": [
        "plt.scatter(m1_final_2['total_collisions_unscaled'], m1_final_2['predictions_lr_unscaled_2'])\n",
        "plt.scatter(m1_final_2['total_collisions_unscaled'], m1_final_2['predictions_dnn_unscaled_2'])\n",
        "plt.plot([320, 420], [320, 420], 'k-', alpha=0.5)\n",
        "plt.title(\"Actual values versus predictions\")\n",
        "plt.xlabel(\"Actual number of collisions\")\n",
        "plt.ylabel(\"Predicted number of collisions\")\n",
        "plt.legend(['Linear regression' , 'DNN'])\n",
        "plt.show()"
      ],
      "metadata": {
        "colab": {
          "base_uri": "https://localhost:8080/",
          "height": 472
        },
        "id": "iNR2EFmLM9Ry",
        "outputId": "9f90a50f-db5e-4bfb-f016-a19dd5769cf1"
      },
      "execution_count": 163,
      "outputs": [
        {
          "output_type": "display_data",
          "data": {
            "text/plain": [
              "<Figure size 640x480 with 1 Axes>"
            ],
            "image/png": "[encoded data removed]"
          },
          "metadata": {}
        }
      ]
    },
    {
      "cell_type": "markdown",
      "source": [
        "As anticipated the linear model without average speed did not as accurately predict the number of collisions each day, with a mean absolute error of -10.8 and a mean squared error of 860.1 (suggesting the predicted values will be plus or minus 29 of the actual number of collisions). However, this should still be about plus or minus 7.0-8.9% of the actual value on average, meaning it could still be used to give an indication of the anticipate number of collisions on any given day. Similarly, the deep neural network regressor model did not perform as well as the linear regression model (mean absolute error is -21.1 and mean squared error is 1767.4), so it would be recommended that the linear model is utilised for forward planning."
      ],
      "metadata": {
        "id": "OrNYEy3QNN58"
      }
    },
    {
      "cell_type": "markdown",
      "source": [
        "# Conclusions"
      ],
      "metadata": {
        "id": "uo7kUDB5kw40"
      }
    },
    {
      "cell_type": "markdown",
      "source": [
        "Previous analysis suggested that there is a relationship between the weather and the number of collisions, and this further research has demonstrated that it would be possible to use this relationship to predict the number of collisions on a specific day to aid the emergency services with resource planning with a reasonable level of accuracy.\n",
        "\n",
        "The best model was the linear regression model that used weather, day of the week and average speed information to create predictions within plus or minus 6.1-7.8% of actual values on average (with a mean absolute error of 0.56 for the validation data and a mean squared error of 651.4). The deep neural network regressor model tested did not perform quite as well (mean absolute error of -13.7 for the validation data and a mean squared error of 1455.9).\n",
        "\n",
        "However, it was noted that average speed would not be known as far in advance, so to help with planning, two further models were tested using only weather and day of the week information. The linear model again performed better than the deep neural network regressor model, although this was less able to accurately predict the number of collisions than with the average speed variable (mean absolute error of -10.8 and mean squared error of 860.1 for the linear regression model and mean absolute error of -21.1 and mean squared error of 1767.4 for the deep neural network regressor model). Nevertheless, the linear model should still estimate a value between 7-8.9% of the actual number of collisions on average on any specified day, which was deemed adequate for forward planning purposes."
      ],
      "metadata": {
        "id": "qHGzfMO7OIgR"
      }
    },
    {
      "cell_type": "markdown",
      "source": [
        "# References"
      ],
      "metadata": {
        "id": "zEg6sSyDkqJQ"
      }
    },
    {
      "cell_type": "markdown",
      "source": [
        "NA"
      ],
      "metadata": {
        "id": "m0DzWPW5ggbG"
      }
    }
  ]
}